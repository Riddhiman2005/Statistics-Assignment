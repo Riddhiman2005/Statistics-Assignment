{
 "cells": [
  {
   "cell_type": "code",
   "execution_count": 3,
   "id": "f673220c-f48f-43be-9a5f-efe1079d8aed",
   "metadata": {},
   "outputs": [
    {
     "name": "stdout",
     "output_type": "stream",
     "text": [
      "Estimated p-hat = 0.5680\n",
      "   x  Observed f  P(X=x)  Expected E_x\n",
      "0  0           2  0.0150          1.50\n",
      "1  1          14  0.0989          9.89\n",
      "2  2          20  0.2601         26.01\n",
      "3  3          34  0.3420         34.20\n",
      "4  4          22  0.2248         22.48\n",
      "5  5           8  0.0591          5.91\n"
     ]
    }
   ],
   "source": [
    "# Fitting a Binomial Distribution #\n",
    "\n",
    "import numpy as np\n",
    "import pandas as pd\n",
    "from scipy.stats import binom\n",
    "# Data\n",
    "x = np.array([0, 1, 2, 3, 4, 5])\n",
    "f = np.array([2, 14, 20, 34, 22, 8])\n",
    "N = np.sum(f)  # Total Frequency\n",
    "# Calculating mean and estimate p\n",
    "mean = np.sum(x * f) / N\n",
    "n = 5\n",
    "p_hat = mean / n\n",
    "\n",
    "# Compute P(X = x) using binomial PMF\n",
    "probs = binom.pmf(x, n=n, p=p_hat)\n",
    "\n",
    "# Compute Expected frequencies\n",
    "expected = N * probs\n",
    "\n",
    "# We want to Tabulate everything\n",
    "df = pd.DataFrame({\n",
    "    'x': x,\n",
    "    'Observed f': f,\n",
    "    'P(X=x)': np.round(probs, 4),\n",
    "    'Expected E_x': np.round(expected, 2)\n",
    "})\n",
    "# Print\n",
    "print(f\"Estimated p-hat = {p_hat:.4f}\")\n",
    "print(df)\n"
   ]
  },
  {
   "cell_type": "code",
   "execution_count": 6,
   "id": "c54411b3-ac5c-432f-92a2-a8f80097352a",
   "metadata": {},
   "outputs": [
    {
     "name": "stdout",
     "output_type": "stream",
     "text": [
      "Estimated mean = 0.97\n",
      "   x  Observed f  P(X=x)  Expected E_x\n",
      "0  0          35  0.3791         37.91\n",
      "1  1          40  0.3677         36.77\n",
      "2  2          20  0.1783         17.83\n",
      "3  3           3  0.0577          5.77\n",
      "4  4           2  0.0140          1.40\n",
      "5  5           0  0.0027          0.27\n"
     ]
    }
   ],
   "source": [
    "#  Fitting a Poisson Distribution #\n",
    "\n",
    "import numpy as np\n",
    "import pandas as pd\n",
    "from scipy.stats import poisson\n",
    "\n",
    "# Data\n",
    "x = np.array([0, 1, 2, 3, 4, 5])\n",
    "f = np.array([35, 40, 20, 3, 2, 0])\n",
    "N = np.sum(f)\n",
    "\n",
    "# Estimate lambda (mean)\n",
    "mean = np.sum(x * f) / N\n",
    "lam = mean\n",
    "\n",
    "# Computing Poisson probabilities and expected frequencies\n",
    "probs = poisson.pmf(x, mu=lam)\n",
    "expected = N * probs\n",
    "\n",
    "# We want to tabulate everything\n",
    "df = pd.DataFrame({\n",
    "    'x': x,\n",
    "    'Observed f': f,\n",
    "    'P(X=x)': np.round(probs, 4),\n",
    "    'Expected E_x': np.round(expected, 2)\n",
    "})\n",
    "\n",
    "# Print\n",
    "print(f\"Estimated mean = {lam:.2f}\")\n",
    "print(df)\n"
   ]
  },
  {
   "cell_type": "code",
   "execution_count": 7,
   "id": "d8807e8c-1250-4f8c-8810-cf7dde243e0f",
   "metadata": {},
   "outputs": [
    {
     "name": "stdout",
     "output_type": "stream",
     "text": [
      "Mean = 86.00, SD (s) = 9.73\n",
      "  Class Interval  Observed f  Expected Frequency  P(a<X<b)\n",
      "0          60-69           5                3.66    0.0366\n",
      "1          70-79          18               18.59    0.1859\n",
      "2          80-89          42               35.22    0.3522\n",
      "3          90-99          27               24.97    0.2497\n",
      "4        100-109           8                6.61    0.0661\n"
     ]
    }
   ],
   "source": [
    "import numpy as np\n",
    "import pandas as pd\n",
    "from scipy.stats import norm\n",
    "\n",
    "# Class intervals and frequencies\n",
    "classes = [(60, 69), (70, 79), (80, 89), (90, 99), (100, 109)]\n",
    "frequencies = np.array([5, 18, 42, 27, 8])\n",
    "N = np.sum(frequencies)\n",
    "\n",
    "# Compute midpoints of classes\n",
    "midpoints = np.array([(a + b) / 2 for a, b in classes])\n",
    "\n",
    "# Compute sample mean and standard deviation\n",
    "mean = np.sum(midpoints * frequencies) / N\n",
    "variance = np.sum(frequencies * (midpoints - mean)**2) / N\n",
    "std_dev = np.sqrt(variance)\n",
    "\n",
    "# Use CDF to compute probabilities P(a < X < b)\n",
    "probs = []\n",
    "for a, b in classes:\n",
    "    z1 = (a - mean) / std_dev\n",
    "    z2 = (b - mean) / std_dev\n",
    "    prob = norm.cdf(z2) - norm.cdf(z1)\n",
    "    probs.append(prob)\n",
    "\n",
    "# Get expected frequencies\n",
    "expected = N * np.array(probs)\n",
    "\n",
    "df = pd.DataFrame({\n",
    "    'Class Interval': [f\"{a}-{b}\" for a, b in classes],\n",
    "    'Observed f': frequencies,\n",
    "    'Expected Frequency': np.round(expected, 2),\n",
    "    'P(a<X<b)': np.round(probs, 4)\n",
    "})\n",
    "\n",
    "\n",
    "print(f\"Mean = {mean:.2f}, SD (s) = {std_dev:.2f}\")\n",
    "print(df)\n"
   ]
  },
  {
   "cell_type": "code",
   "execution_count": null,
   "id": "7f5e05f4-a77a-4de5-947f-8ad3112abb4c",
   "metadata": {},
   "outputs": [],
   "source": []
  }
 ],
 "metadata": {
  "kernelspec": {
   "display_name": "Python 3 (ipykernel)",
   "language": "python",
   "name": "python3"
  },
  "language_info": {
   "codemirror_mode": {
    "name": "ipython",
    "version": 3
   },
   "file_extension": ".py",
   "mimetype": "text/x-python",
   "name": "python",
   "nbconvert_exporter": "python",
   "pygments_lexer": "ipython3",
   "version": "3.12.7"
  }
 },
 "nbformat": 4,
 "nbformat_minor": 5
}
